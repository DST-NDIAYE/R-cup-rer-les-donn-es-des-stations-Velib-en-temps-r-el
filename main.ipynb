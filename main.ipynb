{
 "cells": [
  {
   "cell_type": "code",
   "execution_count": 3,
   "metadata": {},
   "outputs": [
    {
     "name": "stdout",
     "output_type": "stream",
     "text": [
      "✅ Connexion réussie ! Voici un aperçu des données :\n",
      "{'total_count': 1475, 'results': [{'stationcode': '16107', 'name': 'Benjamin Godard - Victor Hugo', 'is_installed': 'OUI', 'capacity': 35, 'numdocksavailable': 32, 'numbikesavailable': 2, 'mechanical': 1, 'ebike': 1, 'is_renting': 'OUI', 'is_returning': 'OUI', 'duedate': '2025-02-15T10:33:15+00:00', 'coordonnees_geo': {'lon': 2.275725, 'lat': 48.865983}, 'nom_arrondissement_communes': 'Paris', 'code_insee_commune': '75056', 'station_opening_hours': None}, {'stationcode': '44015', 'name': \"Rouget de L'isle - Watteau\", 'is_installed': 'OUI', 'capacity': 20, 'numdocksavailable': 11, 'numbikesavailable': 9, 'mechanical': 1, 'ebike': 8, 'is_renting': 'OUI', 'is_returning': 'OUI', 'duedate': '2025-02-15T10:35:47+00:00', 'coordonnees_geo': {'lon': 2.3963020229163, 'lat': 48.778192750803}, 'nom_arrondissement_communes': 'Vitry-sur-Seine', 'code_insee_commune': '94081', 'station_opening_hours': None}, {'stationcode': '14111', 'name': 'Cassini - Denfert-Rochereau', 'is_installed': 'OUI', 'capacity': 25, 'numdocksavailable': 19, 'numbikesavailable': 6, 'mechanical': 2, 'ebike': 4, 'is_renting': 'OUI', 'is_returning': 'OUI', 'duedate': '2025-02-15T10:31:55+00:00', 'coordonnees_geo': {'lon': 2.3360354080796, 'lat': 48.837525839067}, 'nom_arrondissement_communes': 'Paris', 'code_insee_commune': '75056', 'station_opening_hours': None}, {'stationcode': '32017', 'name': 'Basilique', 'is_installed': 'OUI', 'capacity': 22, 'numdocksavailable': 9, 'numbikesavailable': 11, 'mechanical': 7, 'ebike': 4, 'is_renting': 'OUI', 'is_returning': 'OUI', 'duedate': '2025-02-15T10:30:58+00:00', 'coordonnees_geo': {'lon': 2.3588666820200914, 'lat': 48.93626891059109}, 'nom_arrondissement_communes': 'Saint-Denis', 'code_insee_commune': '93066', 'station_opening_hours': None}, {'stationcode': '11104', 'name': 'Charonne - Robert et Sonia Delaunay', 'is_installed': 'OUI', 'capacity': 20, 'numdocksavailable': 16, 'numbikesavailable': 4, 'mechanical': 3, 'ebike': 1, 'is_renting': 'OUI', 'is_returning': 'OUI', 'duedate': '2025-02-15T10:33:25+00:00', 'coordonnees_geo': {'lon': 2.3925706744194, 'lat': 48.855907555969}, 'nom_arrondissement_communes': 'Paris', 'code_insee_commune': '75056', 'station_opening_hours': None}, {'stationcode': '6003', 'name': 'Saint-Sulpice', 'is_installed': 'OUI', 'capacity': 21, 'numdocksavailable': 11, 'numbikesavailable': 10, 'mechanical': 6, 'ebike': 4, 'is_renting': 'OUI', 'is_returning': 'OUI', 'duedate': '2025-02-15T10:35:42+00:00', 'coordonnees_geo': {'lon': 2.3308077827095985, 'lat': 48.85165383178419}, 'nom_arrondissement_communes': 'Paris', 'code_insee_commune': '75056', 'station_opening_hours': None}, {'stationcode': '7002', 'name': 'Vaneau - Sèvres', 'is_installed': 'OUI', 'capacity': 35, 'numdocksavailable': 26, 'numbikesavailable': 7, 'mechanical': 5, 'ebike': 2, 'is_renting': 'OUI', 'is_returning': 'OUI', 'duedate': '2025-02-15T10:35:18+00:00', 'coordonnees_geo': {'lon': 2.3204218259346, 'lat': 48.848563233059}, 'nom_arrondissement_communes': 'Paris', 'code_insee_commune': '75056', 'station_opening_hours': None}, {'stationcode': '5110', 'name': 'Lacépède - Monge', 'is_installed': 'OUI', 'capacity': 23, 'numdocksavailable': 19, 'numbikesavailable': 3, 'mechanical': 0, 'ebike': 3, 'is_renting': 'OUI', 'is_returning': 'OUI', 'duedate': '2025-02-15T10:32:15+00:00', 'coordonnees_geo': {'lon': 2.3519663885235786, 'lat': 48.84389286531899}, 'nom_arrondissement_communes': 'Paris', 'code_insee_commune': '75056', 'station_opening_hours': None}, {'stationcode': '30002', 'name': 'Jean Rostand - Paul Vaillant Couturier', 'is_installed': 'OUI', 'capacity': 40, 'numdocksavailable': 30, 'numbikesavailable': 9, 'mechanical': 4, 'ebike': 5, 'is_renting': 'OUI', 'is_returning': 'OUI', 'duedate': '2025-02-15T10:27:15+00:00', 'coordonnees_geo': {'lon': 2.4530601033354, 'lat': 48.908168131015}, 'nom_arrondissement_communes': 'Bobigny', 'code_insee_commune': '93008', 'station_opening_hours': None}, {'stationcode': '5016', 'name': 'Thouin - Cardinal Lemoine', 'is_installed': 'OUI', 'capacity': 17, 'numdocksavailable': 12, 'numbikesavailable': 4, 'mechanical': 1, 'ebike': 3, 'is_renting': 'OUI', 'is_returning': 'OUI', 'duedate': '2025-02-15T10:32:53+00:00', 'coordonnees_geo': {'lon': 2.3494647851273465, 'lat': 48.84504716661511}, 'nom_arrondissement_communes': 'Paris', 'code_insee_commune': '75056', 'station_opening_hours': None}, {'stationcode': '11025', 'name': 'Froment - Bréguet', 'is_installed': 'OUI', 'capacity': 43, 'numdocksavailable': 9, 'numbikesavailable': 33, 'mechanical': 17, 'ebike': 16, 'is_renting': 'OUI', 'is_returning': 'OUI', 'duedate': '2025-02-15T10:34:27+00:00', 'coordonnees_geo': {'lon': 2.37289470306807, 'lat': 48.8570414504784}, 'nom_arrondissement_communes': 'Paris', 'code_insee_commune': '75056', 'station_opening_hours': None}, {'stationcode': '32304', 'name': 'Charcot - Benfleet', 'is_installed': 'OUI', 'capacity': 28, 'numdocksavailable': 24, 'numbikesavailable': 4, 'mechanical': 0, 'ebike': 4, 'is_renting': 'OUI', 'is_returning': 'OUI', 'duedate': '2025-02-15T10:34:39+00:00', 'coordonnees_geo': {'lon': 2.440523876268, 'lat': 48.878370277021}, 'nom_arrondissement_communes': 'Romainville', 'code_insee_commune': '93063', 'station_opening_hours': None}, {'stationcode': '6021', 'name': 'Beaux-Arts - Bonaparte', 'is_installed': 'OUI', 'capacity': 20, 'numdocksavailable': 11, 'numbikesavailable': 8, 'mechanical': 6, 'ebike': 2, 'is_renting': 'OUI', 'is_returning': 'OUI', 'duedate': '2025-02-15T10:30:10+00:00', 'coordonnees_geo': {'lon': 2.3348518833518, 'lat': 48.856451985396}, 'nom_arrondissement_communes': 'Paris', 'code_insee_commune': '75056', 'station_opening_hours': None}, {'stationcode': '12109', 'name': 'Mairie du 12ème', 'is_installed': 'OUI', 'capacity': 30, 'numdocksavailable': 16, 'numbikesavailable': 13, 'mechanical': 11, 'ebike': 2, 'is_renting': 'OUI', 'is_returning': 'OUI', 'duedate': '2025-02-15T10:33:31+00:00', 'coordonnees_geo': {'lon': 2.3875549435616, 'lat': 48.840855311763}, 'nom_arrondissement_communes': 'Paris', 'code_insee_commune': '75056', 'station_opening_hours': None}, {'stationcode': '8050', 'name': 'Boétie - Ponthieu', 'is_installed': 'OUI', 'capacity': 45, 'numdocksavailable': 31, 'numbikesavailable': 10, 'mechanical': 6, 'ebike': 4, 'is_renting': 'OUI', 'is_returning': 'OUI', 'duedate': '2025-02-15T10:29:58+00:00', 'coordonnees_geo': {'lon': 2.3076787590981, 'lat': 48.871417284355}, 'nom_arrondissement_communes': 'Paris', 'code_insee_commune': '75056', 'station_opening_hours': None}, {'stationcode': '14108', 'name': 'Le Brix et Mesmin - Jourdan', 'is_installed': 'OUI', 'capacity': 21, 'numdocksavailable': 5, 'numbikesavailable': 16, 'mechanical': 8, 'ebike': 8, 'is_renting': 'OUI', 'is_returning': 'OUI', 'duedate': '2025-02-15T10:31:41+00:00', 'coordonnees_geo': {'lon': 2.327861653302471, 'lat': 48.82234096593411}, 'nom_arrondissement_communes': 'Paris', 'code_insee_commune': '75056', 'station_opening_hours': None}, {'stationcode': '31024', 'name': 'Romainville - Vaillant-Couturier', 'is_installed': 'OUI', 'capacity': 38, 'numdocksavailable': 37, 'numbikesavailable': 0, 'mechanical': 0, 'ebike': 0, 'is_renting': 'OUI', 'is_returning': 'OUI', 'duedate': '2025-02-15T10:32:38+00:00', 'coordonnees_geo': {'lon': 2.446748, 'lat': 48.86785}, 'nom_arrondissement_communes': 'Montreuil', 'code_insee_commune': '93048', 'station_opening_hours': None}, {'stationcode': '2022', 'name': 'Saint-Fiacre - Poissonière', 'is_installed': 'OUI', 'capacity': 35, 'numdocksavailable': 30, 'numbikesavailable': 4, 'mechanical': 2, 'ebike': 2, 'is_renting': 'OUI', 'is_returning': 'OUI', 'duedate': '2025-02-15T10:26:21+00:00', 'coordonnees_geo': {'lon': 2.3459213599563, 'lat': 48.870828911558}, 'nom_arrondissement_communes': 'Paris', 'code_insee_commune': '75056', 'station_opening_hours': None}, {'stationcode': '17025', 'name': 'Chazelles - Courcelles', 'is_installed': 'OUI', 'capacity': 35, 'numdocksavailable': 26, 'numbikesavailable': 5, 'mechanical': 2, 'ebike': 3, 'is_renting': 'OUI', 'is_returning': 'OUI', 'duedate': '2025-02-15T10:35:21+00:00', 'coordonnees_geo': {'lon': 2.3034455627202988, 'lat': 48.879406604954}, 'nom_arrondissement_communes': 'Paris', 'code_insee_commune': '75056', 'station_opening_hours': None}, {'stationcode': '20143', 'name': 'Ramponeau - Belleville', 'is_installed': 'OUI', 'capacity': 44, 'numdocksavailable': 35, 'numbikesavailable': 9, 'mechanical': 2, 'ebike': 7, 'is_renting': 'OUI', 'is_returning': 'OUI', 'duedate': '2025-02-15T10:35:41+00:00', 'coordonnees_geo': {'lon': 2.379056852114, 'lat': 48.871031137596}, 'nom_arrondissement_communes': 'Paris', 'code_insee_commune': '75056', 'station_opening_hours': None}]}\n"
     ]
    }
   ],
   "source": [
    "import requests\n",
    "\n",
    "url = \"https://opendata.paris.fr/api/explore/v2.1/catalog/datasets/velib-disponibilite-en-temps-reel/records?limit=20\"\n",
    "\n",
    "response = requests.get(url)\n",
    "\n",
    "if response.status_code == 200:\n",
    "    print(\"✅ Connexion réussie ! Voici un aperçu des données :\")\n",
    "    print(response.json())  # Affiche le JSON récupéré\n",
    "else:\n",
    "    print(f\"🚨 Erreur {response.status_code} : Impossible de récupérer les données\")"
   ]
  },
  {
   "cell_type": "code",
   "execution_count": null,
   "metadata": {},
   "outputs": [],
   "source": []
  }
 ],
 "metadata": {
  "kernelspec": {
   "display_name": "base",
   "language": "python",
   "name": "python3"
  },
  "language_info": {
   "codemirror_mode": {
    "name": "ipython",
    "version": 3
   },
   "file_extension": ".py",
   "mimetype": "text/x-python",
   "name": "python",
   "nbconvert_exporter": "python",
   "pygments_lexer": "ipython3",
   "version": "3.12.7"
  }
 },
 "nbformat": 4,
 "nbformat_minor": 2
}
